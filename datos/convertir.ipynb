{
 "cells": [
  {
   "cell_type": "code",
   "execution_count": 18,
   "metadata": {},
   "outputs": [],
   "source": [
    "from PIL import Image\n",
    "import os"
   ]
  },
  {
   "cell_type": "code",
   "execution_count": 19,
   "metadata": {},
   "outputs": [],
   "source": [
    "from PIL import Image\n",
    "\n",
    "def centrar(origen, destino, tamaño=1024):\n",
    "    # Abrir la imagen\n",
    "    img = Image.open(origen)\n",
    "    \n",
    "    # Definir el tamaño de salida 1024x1024 con márgenes de 20px\n",
    "    margin = 20\n",
    "    canvas_size = (tamaño, tamaño)\n",
    "    target_size = (tamaño - 2 * margin, tamaño - 2 * margin)\n",
    "    \n",
    "    # Crear un lienzo blanco de 1024x1024\n",
    "    new_img = Image.new(\"RGB\", canvas_size, (255, 255, 255))\n",
    "    \n",
    "    # Redimensionar la imagen manteniendo la proporción\n",
    "    img.thumbnail(target_size, Image.LANCZOS)\n",
    "    \n",
    "    # Escalar la imagen si es demasiado pequeña\n",
    "    img_width, img_height = img.size\n",
    "    if img_width < target_size[0] and img_height < target_size[1]:\n",
    "        scale_factor = min(target_size[0] / img_width, target_size[1] / img_height)\n",
    "        new_size = (int(img_width * scale_factor), int(img_height * scale_factor))\n",
    "        img = img.resize(new_size, Image.LANCZOS)\n",
    "    \n",
    "    # Obtener las coordenadas para centrar la imagen con márgenes\n",
    "    img_width, img_height = img.size\n",
    "    left = (canvas_size[0] - img_width) // 2\n",
    "    top  = (canvas_size[1] - img_height) // 2\n",
    "    \n",
    "    # Pegar la imagen redimensionada en el lienzo\n",
    "    new_img.paste(img, (left, top))\n",
    "    \n",
    "    # Guardar la imagen resultante\n",
    "    new_img.save(destino)\n",
    "\n",
    "def convertir(origen, destino):\n",
    "    # Abrir la imagen PNG\n",
    "    png_image = Image.open(origen).convert(\"RGBA\")\n",
    "    \n",
    "    # Obtener el bounding box de la imagen sin áreas transparentes\n",
    "    bbox = png_image.getbbox()\n",
    "    \n",
    "    # Recortar la imagen para eliminar las áreas transparentes\n",
    "    cropped_image = png_image.crop(bbox)\n",
    "    \n",
    "    # Crear una nueva imagen con fondo blanco del tamaño de la imagen recortada\n",
    "    jpg_image = Image.new(\"RGB\", cropped_image.size, (255, 255, 255))\n",
    "    \n",
    "    # Pegar la imagen PNG recortada sobre la imagen con fondo blanco\n",
    "    jpg_image.paste(cropped_image, (0, 0), cropped_image)\n",
    "    \n",
    "    # Guardar la nueva imagen en formato JPG\n",
    "    jpg_image.save(destino, \"JPEG\")\n"
   ]
  },
  {
   "cell_type": "code",
   "execution_count": 20,
   "metadata": {},
   "outputs": [],
   "source": [
    "def convertir_todo(origen='./original'):\n",
    "    # Obtener lista de archivos .png en el directorio especificado\n",
    "    archivos = [f for f in os.listdir(origen) if f.endswith('.png')]\n",
    "    \n",
    "    for archivo in archivos:\n",
    "        # Generar nuevo nombre con extensión .jpg\n",
    "        nuevo_nombre = archivo[:-4] + '.jpg'\n",
    "        # Ruta completa del archivo de destino\n",
    "        destino_path = os.path.join(origen, nuevo_nombre)\n",
    "        # Ruta completa del archivo de origen\n",
    "        origen_path = os.path.join(origen, archivo)\n",
    "        # Convertir y guardar la imagen\n",
    "        convertir(origen_path, destino_path)\n",
    "        print(f\"Convertido: {archivo} -> {nuevo_nombre}\")\n",
    "\n",
    "def procesar_todo(origen='./original', destino='./normalizado', tamaño=1024):\n",
    "    # Obtener lista de archivos .jpg en el directorio actual\n",
    "    archivos = [f for f in os.listdir(origen) if f.endswith('.jpg') and f[:-4].isdigit()]\n",
    "    \n",
    "    print(f\"> Se encontraron {len(archivos)} archivos .jpg\")\n",
    "    for i, archivo in enumerate(archivos):\n",
    "        # Generar nuevo nombre con prefijo 'i'\n",
    "        print(f\"-{i+1:2} {archivo}...\")\n",
    "        # Convertir y guardar la imagen\n",
    "        centrar(f\"{origen}/{archivo}\", f\"{destino}/{archivo}\", tamaño=tamaño)\n",
    "    print(\"~ Proceso finalizado\")\n",
    "\n"
   ]
  },
  {
   "cell_type": "code",
   "execution_count": 21,
   "metadata": {},
   "outputs": [
    {
     "name": "stdout",
     "output_type": "stream",
     "text": [
      "Convertido: 006.png -> 006.jpg\n",
      "> Se encontraron 3 archivos .jpg\n",
      "- 1 002.jpg...\n",
      "- 2 001.jpg...\n",
      "- 3 006.jpg...\n",
      "~ Proceso finalizado\n"
     ]
    }
   ],
   "source": [
    "\n",
    "# Ejemplo de uso\n",
    "convertir_todo()\n",
    "procesar_todo()"
   ]
  }
 ],
 "metadata": {
  "kernelspec": {
   "display_name": "Python 3",
   "language": "python",
   "name": "python3"
  },
  "language_info": {
   "codemirror_mode": {
    "name": "ipython",
    "version": 3
   },
   "file_extension": ".py",
   "mimetype": "text/x-python",
   "name": "python",
   "nbconvert_exporter": "python",
   "pygments_lexer": "ipython3",
   "version": "3.12.5"
  }
 },
 "nbformat": 4,
 "nbformat_minor": 2
}
