{
 "cells": [
  {
   "cell_type": "code",
   "execution_count": 1,
   "metadata": {},
   "outputs": [],
   "source": [
    "from PIL import Image\n",
    "import os"
   ]
  },
  {
   "cell_type": "code",
   "execution_count": 2,
   "metadata": {},
   "outputs": [],
   "source": [
    "from PIL import Image\n",
    "\n",
    "def centrar(origen, destino, tamaño=1024):\n",
    "    # Abrir la imagen\n",
    "    img = Image.open(origen)\n",
    "    \n",
    "    # Definir el tamaño de salida 1024x1024 con márgenes de 20px\n",
    "    margin = 20\n",
    "    canvas_size = (tamaño, tamaño)\n",
    "    target_size = (tamaño - 2 * margin, tamaño - 2 * margin)\n",
    "    \n",
    "    # Crear un lienzo blanco de 1024x1024\n",
    "    new_img = Image.new(\"RGB\", canvas_size, (255, 255, 255))\n",
    "    \n",
    "    # Redimensionar la imagen manteniendo la proporción\n",
    "    img.thumbnail(target_size, Image.LANCZOS)\n",
    "    \n",
    "    # Escalar la imagen si es demasiado pequeña\n",
    "    img_width, img_height = img.size\n",
    "    if img_width < target_size[0] and img_height < target_size[1]:\n",
    "        scale_factor = min(target_size[0] / img_width, target_size[1] / img_height)\n",
    "        new_size = (int(img_width * scale_factor), int(img_height * scale_factor))\n",
    "        img = img.resize(new_size, Image.LANCZOS)\n",
    "    \n",
    "    # Obtener las coordenadas para centrar la imagen con márgenes\n",
    "    img_width, img_height = img.size\n",
    "    left = (canvas_size[0] - img_width) // 2\n",
    "    top  = (canvas_size[1] - img_height) // 2\n",
    "    \n",
    "    # Pegar la imagen redimensionada en el lienzo\n",
    "    new_img.paste(img, (left, top))\n",
    "    \n",
    "    # Guardar la imagen resultante\n",
    "    new_img.save(destino)\n",
    "\n",
    "# Ejemplo de uso\n",
    "\n",
    "def procesar(origen='./original', destino='./normalizado', tamaño=1024):\n",
    "    # Obtener lista de archivos .jpg en el directorio actual\n",
    "    archivos = [f for f in os.listdir(origen) if f.endswith('.jpg') and f[:-4].isdigit()]\n",
    "    \n",
    "    print(f\"> Se encontraron {len(archivos)} archivos .jpg\")\n",
    "    for i, archivo in enumerate(archivos):\n",
    "        # Generar nuevo nombre con prefijo 'i'\n",
    "        print(f\"-{i+1:2} {archivo}...\")\n",
    "        # Convertir y guardar la imagen\n",
    "        centrar(f\"{origen}/{archivo}\", f\"{destino}/{archivo}\", tamaño=tamaño)\n",
    "    print(\"~ Proceso finalizado\")"
   ]
  },
  {
   "cell_type": "code",
   "execution_count": 3,
   "metadata": {},
   "outputs": [
    {
     "name": "stdout",
     "output_type": "stream",
     "text": [
      "> Se encontraron 2 archivos .jpg\n",
      "- 1 002.jpg...\n",
      "- 2 001.jpg...\n",
      "~ Proceso finalizado\n"
     ]
    }
   ],
   "source": [
    "\n",
    "procesar()"
   ]
  },
  {
   "cell_type": "code",
   "execution_count": null,
   "metadata": {},
   "outputs": [],
   "source": []
  }
 ],
 "metadata": {
  "kernelspec": {
   "display_name": "Python 3",
   "language": "python",
   "name": "python3"
  },
  "language_info": {
   "codemirror_mode": {
    "name": "ipython",
    "version": 3
   },
   "file_extension": ".py",
   "mimetype": "text/x-python",
   "name": "python",
   "nbconvert_exporter": "python",
   "pygments_lexer": "ipython3",
   "version": "3.12.5"
  }
 },
 "nbformat": 4,
 "nbformat_minor": 2
}
